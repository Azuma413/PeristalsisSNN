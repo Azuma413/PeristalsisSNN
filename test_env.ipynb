{
 "cells": [
  {
   "cell_type": "code",
   "execution_count": 1,
   "id": "55e51aa2",
   "metadata": {},
   "outputs": [
    {
     "name": "stderr",
     "output_type": "stream",
     "text": [
      "[I 05/23/25 14:49:44.644 11308] [shell.py:_shell_pop_print@23] Graphical python shell detected, using wrapped sys.stdout\n"
     ]
    }
   ],
   "source": [
    "# モジュールのインポート\n",
    "from src.env.peristal_env import PeristalsisEnv\n",
    "import numpy as np\n",
    "import matplotlib.pyplot as plt"
   ]
  },
  {
   "cell_type": "code",
   "execution_count": 2,
   "id": "e1fe90a7",
   "metadata": {},
   "outputs": [
    {
     "name": "stdout",
     "output_type": "stream",
     "text": [
      "\u001b[38;5;159m[Genesis] [14:49:47] [INFO] \u001b[38;5;121m╭───────────────────────────────────────────────╮\u001b[0m\u001b[38;5;159m\u001b[0m\n",
      "\u001b[38;5;159m[Genesis] [14:49:47] [INFO] \u001b[38;5;121m│┈┉┈┉┈┉┈┉┈┉┈┉┈┉┈┉┈┉┈\u001b[0m\u001b[38;5;159m \u001b[38;5;121m\u001b[1m\u001b[3mGenesis\u001b[0m\u001b[38;5;159m \u001b[38;5;121m┈┉┈┉┈┉┈┉┈┉┈┉┈┉┈┉┈┉┈│\u001b[0m\u001b[38;5;159m\u001b[0m\n",
      "\u001b[38;5;159m[Genesis] [14:49:47] [INFO] \u001b[38;5;121m╰───────────────────────────────────────────────╯\u001b[0m\u001b[38;5;159m\u001b[0m\n",
      "\u001b[38;5;159m[Genesis] [14:49:47] [INFO] Running on \u001b[38;5;121m\u001b[4m[NVIDIA GeForce RTX 4060 Laptop GPU]\u001b[0m\u001b[38;5;159m with backend \u001b[38;5;121m\u001b[4mgs.cuda\u001b[0m\u001b[38;5;159m. Device memory: \u001b[38;5;121m\u001b[4m7.63\u001b[0m\u001b[38;5;159m GB.\u001b[0m\n",
      "\u001b[38;5;159m[Genesis] [14:49:47] [INFO] 🚀 Genesis initialized. 🔖 version: \u001b[38;5;121m\u001b[4m0.2.1\u001b[0m\u001b[38;5;159m, 🌱 seed: \u001b[38;5;121m\u001b[4mNone\u001b[0m\u001b[38;5;159m, 📏 precision: '\u001b[38;5;121m\u001b[4m32\u001b[0m\u001b[38;5;159m', 🐛 debug: \u001b[38;5;121m\u001b[4mFalse\u001b[0m\u001b[38;5;159m, 🎨 theme: '\u001b[38;5;121m\u001b[4mdark\u001b[0m\u001b[38;5;159m'.\u001b[0m\n",
      "\u001b[38;5;159m[Genesis] [14:49:48] [INFO] Scene \u001b[38;5;121m\u001b[3m<232d972>\u001b[0m\u001b[38;5;159m created.\u001b[0m\n",
      "\u001b[38;5;159m[Genesis] [14:49:48] [INFO] Adding \u001b[38;5;121m<gs.MPMEntity>\u001b[0m\u001b[38;5;159m. idx: \u001b[38;5;121m0\u001b[0m\u001b[38;5;159m, uid: \u001b[38;5;121m\u001b[3m<edb62e0>\u001b[0m\u001b[38;5;159m, morph: \u001b[38;5;121m<gs.morphs.Mesh(file='/home/hiratsuka/SourceCode/PeristalsisSNN/3d_models/cylinder_model.stl')>\u001b[0m\u001b[38;5;159m, material: \u001b[38;5;121m<gs.materials.MPM.Muscle>\u001b[0m\u001b[38;5;159m.\u001b[0m\n",
      "\u001b[38;5;159m[Genesis] [14:49:48] [INFO] Sampled \u001b[38;5;121m\u001b[4m42,119\u001b[0m\u001b[38;5;159m particles.\u001b[0m\n",
      "\u001b[38;5;159m[Genesis] [14:49:48] [INFO] Adding \u001b[38;5;121m<gs.MPMEntity>\u001b[0m\u001b[38;5;159m. idx: \u001b[38;5;121m1\u001b[0m\u001b[38;5;159m, uid: \u001b[38;5;121m\u001b[3m<b51a4a6>\u001b[0m\u001b[38;5;159m, morph: \u001b[38;5;121m<gs.morphs.Sphere>\u001b[0m\u001b[38;5;159m, material: \u001b[38;5;121m<gs.materials.MPM.Elastic>\u001b[0m\u001b[38;5;159m.\u001b[0m\n",
      "\u001b[38;5;159m[Genesis] [14:49:48] [INFO] Sampled \u001b[38;5;121m\u001b[4m4,159\u001b[0m\u001b[38;5;159m particles.\u001b[0m\n",
      "\u001b[38;5;159m[Genesis] [14:49:48] [INFO] Building scene \u001b[38;5;121m\u001b[3m<232d972>\u001b[0m\u001b[38;5;159m...\u001b[0m\n",
      "\u001b[38;5;159m[Genesis] [14:49:48] [INFO] Compiling simulation kernels...\u001b[0m\n",
      "\u001b[38;5;159m[Genesis] [14:49:49] [INFO] Building visualizer...\u001b[0m\n",
      "area F: min=0.0, max=0.0, range=0.0\n",
      "diff area F: min=0.0, max=0.0, range=0.0\n"
     ]
    },
    {
     "data": {
      "text/plain": [
       "array([0., 0., 0., 0., 0., 0., 0., 0., 0., 0., 0., 0., 0., 0., 0.],\n",
       "      dtype=float32)"
      ]
     },
     "execution_count": 2,
     "metadata": {},
     "output_type": "execute_result"
    }
   ],
   "source": [
    "# 環境の初期化\n",
    "AXIAL_DIVISIONS = 5\n",
    "env = PeristalsisEnv(axial_divisions=AXIAL_DIVISIONS, show_viewer=False)\n",
    "obs, _ = env.reset()\n",
    "obs"
   ]
  },
  {
   "cell_type": "code",
   "execution_count": 148,
   "id": "e387098c",
   "metadata": {},
   "outputs": [
    {
     "name": "stdout",
     "output_type": "stream",
     "text": [
      "\u001b[38;5;159m[Genesis] [14:50:44] [INFO] Running at \u001b[38;5;121m2.58\u001b[0m\u001b[38;5;159m FPS (\u001b[38;5;121m2.58\u001b[0m\u001b[38;5;159m FPS per env, \u001b[38;5;121m1\u001b[0m\u001b[38;5;159m envs).\u001b[0m\n",
      "area F: min=-0.024988144636154175, max=0.015616416931152344, range=0.04060456156730652\n",
      "diff area F: min=-0.0002751946449279785, max=0.0003126561641693115, range=0.00058785080909729\n",
      "rwd:  -0.002288046\n"
     ]
    },
    {
     "data": {
      "text/plain": [
       "array([-0.99180263, -0.30172244,  0.39278576,  0.16497792,  0.01186971,\n",
       "       -0.95434064, -0.9704722 ,  0.88981575,  0.15829088, -0.016217  ,\n",
       "       -0.9657368 , -0.9251899 ,  0.8072446 ,  0.15987691, -0.00145137],\n",
       "      dtype=float32)"
      ]
     },
     "execution_count": 148,
     "metadata": {},
     "output_type": "execute_result"
    }
   ],
   "source": [
    "\n",
    "actu = np.zeros(6 * AXIAL_DIVISIONS)\n",
    "strength = 0.35\n",
    "index = 0\n",
    "phase = 1\n",
    "rate = 0.8\n",
    "actu[0+index] = phase * strength\n",
    "actu[5+index] = phase * strength\n",
    "actu[10+index] = phase * strength\n",
    "actu[15+index] = phase * strength * rate\n",
    "actu[20+index] = phase * strength * rate\n",
    "actu[25+index] = phase * strength * rate\n",
    "obs, reward, _, _, _ = env.step(actu)\n",
    "print(\"rwd: \", reward)\n",
    "obs"
   ]
  }
 ],
 "metadata": {
  "kernelspec": {
   "display_name": ".venv",
   "language": "python",
   "name": "python3"
  },
  "language_info": {
   "codemirror_mode": {
    "name": "ipython",
    "version": 3
   },
   "file_extension": ".py",
   "mimetype": "text/x-python",
   "name": "python",
   "nbconvert_exporter": "python",
   "pygments_lexer": "ipython3",
   "version": "3.10.16"
  }
 },
 "nbformat": 4,
 "nbformat_minor": 5
}
